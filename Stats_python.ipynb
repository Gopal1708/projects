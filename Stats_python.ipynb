{
  "nbformat": 4,
  "nbformat_minor": 0,
  "metadata": {
    "colab": {
      "name": "Stats_python.ipynb",
      "provenance": [],
      "collapsed_sections": [],
      "authorship_tag": "ABX9TyPltU7Vch6Ei0dD0uxfAUxW",
      "include_colab_link": true
    },
    "kernelspec": {
      "name": "python3",
      "display_name": "Python 3"
    }
  },
  "cells": [
    {
      "cell_type": "markdown",
      "metadata": {
        "id": "view-in-github",
        "colab_type": "text"
      },
      "source": [
        "<a href=\"https://colab.research.google.com/github/Gopal1708/projects/blob/main/Stats_python.ipynb\" target=\"_parent\"><img src=\"https://colab.research.google.com/assets/colab-badge.svg\" alt=\"Open In Colab\"/></a>"
      ]
    },
    {
      "cell_type": "markdown",
      "metadata": {
        "id": "TC-m-mF0GxWn"
      },
      "source": [
        "**STATISTICS IN PYTHON**\n"
      ]
    },
    {
      "cell_type": "markdown",
      "metadata": {
        "id": "oGSNBve4G55U"
      },
      "source": [
        "**TASK:** Given an array, **$X$** , of **$N$** integers, calculate and print the respective mean, median, and mode on separate lines. If your array contains more than one modal value, choose the numerically smallest one.\n",
        "\n",
        "**Note:** Other than the modal value (which will always be an integer), your answers should be in decimal form, rounded to a scale of 1 decimal place (i.e., 11.3, 7.2)."
      ]
    },
    {
      "cell_type": "markdown",
      "metadata": {
        "id": "dprBKldSSu1Y"
      },
      "source": [
        "**Input Format**\n",
        "\n",
        "* The integer, **$N$** , denoting the number of elements in the array.\n",
        "* The list contains **$N$** comma-separated integers describing the array's elements."
      ]
    },
    {
      "cell_type": "markdown",
      "metadata": {
        "id": "N6RsM5_qS9RD"
      },
      "source": [
        "<!-- **Constraints**\n",
        "*   $ 10 \\leq N \\leq 2500 $\n",
        "*   $ 0 \\lt x_{i} \\leq 10^{5} $ , where **$x_{i}$** is the **$i^{th}$**  element of the array. -->\n",
        "\n",
        "\n",
        "**Output Format**\n",
        "\n",
        "Print 3 lines of output in the following order:\n",
        "\n",
        "1. Print the mean on a new line, to a scale of 1 decimal place (i.e. 11.3, 7.0).\n",
        "2. Print the median on a new line, to a scale of 1 decimal place (i.e. 11.3, 7.0).\n",
        "3. Print the mode on a new line; if more than one such value exists, print the numerically smallest one."
      ]
    },
    {
      "cell_type": "markdown",
      "metadata": {
        "id": "IQcj4mnr7WWy"
      },
      "source": [
        "**Solution:**\n",
        "\n",
        "\n",
        "*   The function *totalElements()* is defined to get the number of elements in an array from the user\n",
        "*   Validation condition is also defined inside the function for any error caused by the user.\n",
        "\n",
        "\n"
      ]
    },
    {
      "cell_type": "code",
      "metadata": {
        "id": "G5g0tMrwQiOm"
      },
      "source": [
        "# function to define the number of elements in an array\n",
        "def totalElements():\n",
        "  try:\n",
        "\n",
        "    valid_num = int(input(\"Enter the number of elements required in an array: \"))\n",
        "    if valid_num < 0:\n",
        "      print(\"Since you have entered a negative integer, it has been converted to positive number: \", abs(valid_num))\n",
        "      valid_num = abs(valid_num)\n",
        "  except ValueError:\n",
        "    print(\"Please enter a valid integer value\")\n",
        "    totalElements()\n",
        "  return valid_num  "
      ],
      "execution_count": null,
      "outputs": []
    },
    {
      "cell_type": "markdown",
      "metadata": {
        "id": "lTsWBT9bDAnB"
      },
      "source": [
        "\n",
        "\n",
        "*   Now I have defined a function to get an array of elements. \n",
        "*   The array will consists of N elements selected by the user and rounded upto 1 decimal places.\n",
        "\n"
      ]
    },
    {
      "cell_type": "code",
      "metadata": {
        "id": "z6vmcwLld7QO"
      },
      "source": [
        "# function to get the elements for an array\n",
        "def getArr(N):\n",
        "  # declaring an empty list for an array (to insert elements)\n",
        "  arr_list = []\n",
        "  for i in range(N):\n",
        "    elem = round(float(input(\"Enter the element {}: \".format(i+1))), ndigits = 1)\n",
        "    if elem < 0:\n",
        "      print(\"Since you have entered a negative integer, it has been converted to positive number: \", abs(elem))\n",
        "      elem = abs(elem)\n",
        "    arr_list.append(elem)\n",
        "  return arr_list"
      ],
      "execution_count": null,
      "outputs": []
    },
    {
      "cell_type": "markdown",
      "metadata": {
        "id": "iWUMD-Q9C_n1"
      },
      "source": [
        ""
      ]
    },
    {
      "cell_type": "code",
      "metadata": {
        "id": "8hsrngc0l5ff"
      },
      "source": [
        "# function to select one of the following to determine mean/median/mode\n",
        "def selOption():\n",
        "  print('Select 1 for Mean')\n",
        "  print('Select 2 for Median')\n",
        "  print('Select 3 for Mode')\n",
        "  try:\n",
        "    option = int(input(\"Choose any number from above to: \"))\n",
        "    if option < 0 or option > 3:\n",
        "      print(\"Invalid number selected, please select the correct number\")\n",
        "      selOption()\n",
        "  except ValueError:\n",
        "    print(\"Select the integer values only\")\n",
        "    selOption()\n",
        "  return option"
      ],
      "execution_count": null,
      "outputs": []
    },
    {
      "cell_type": "code",
      "metadata": {
        "id": "tI64kEK-nPTK"
      },
      "source": [
        "# function to determine mean\n",
        "def getMean(X,N):\n",
        "  sum = 0\n",
        "  \n",
        "  # getting sum of all elements in X\n",
        "  for i in range(len(X)):\n",
        "    total = sum + X[i]\n",
        "    sum = total\n",
        "\n",
        "  # calculating mean\n",
        "  mean = round(total/N, ndigits = 1)\n",
        "  \n",
        "  # returning mean value\n",
        "  return mean"
      ],
      "execution_count": null,
      "outputs": []
    },
    {
      "cell_type": "code",
      "metadata": {
        "id": "1iCriGftnPf7"
      },
      "source": [
        "# function to determine median\n",
        "def getMedian(X,N):\n",
        "\n",
        "  # calculating median for even number of samples\n",
        "  if N % 2 == 0:\n",
        "    i = X[int(N/2)] + X[int((N/2) - 1)]\n",
        "    median = round(i/2, ndigits =1)\n",
        "    # print(\"Median for even series:\", median)\n",
        "\n",
        "  # calculating median for odd number of samples  \n",
        "  else:\n",
        "    i = int(N/2)\n",
        "    median = X[i]\n",
        "    # print(\"Median for odd series:\", median)\n",
        "\n",
        "  return median"
      ],
      "execution_count": null,
      "outputs": []
    },
    {
      "cell_type": "code",
      "metadata": {
        "id": "tCa4D3CKnPqU"
      },
      "source": [
        "# function to determine mode\n",
        "def getMode(X):\n",
        "  count = 0\n",
        "  modeDict = {}\n",
        "  for i in list(sorted(X)):\n",
        "    if i in modeDict:\n",
        "      modeDict[i] += 1\n",
        "    else:\n",
        "      modeDict[i] = 1  \n",
        "  # print(modeDict)\n",
        "  element = list(modeDict.keys())\n",
        "  freq = list(modeDict.values())\n",
        "  mode = element[freq.index(max(freq))]\n",
        "\n",
        "  return mode"
      ],
      "execution_count": null,
      "outputs": []
    },
    {
      "cell_type": "code",
      "metadata": {
        "id": "lG6cRGHVc1sO",
        "collapsed": true,
        "outputId": "e1bf5b8d-05d7-4108-e8e3-62bbddfe4fd4",
        "colab": {
          "base_uri": "https://localhost:8080/",
          "height": 185
        }
      },
      "source": [
        "# main function\n",
        "def main():\n",
        "  # getting the number of elements for an array\n",
        "  N = totalElements()\n",
        "  print (\"Please enter the\",N,\"elements\")\n",
        "\n",
        "  # getting an array (sorted in an ascending order)\n",
        "  X = sorted(getArr(N))\n",
        "  print(\"The following is an array \", X)\n",
        "  \n",
        "  # Selecting an option to determine mean/median/mode\n",
        "  option = int(selOption())\n",
        "\n",
        "  if option == 1:\n",
        "    mean = getMean(X,N)\n",
        "    print(\"Mean of an array\", X , \"is \", mean)\n",
        "\n",
        "  elif option == 2:\n",
        "    median = getMedian(X,N)\n",
        "    print(\"Median of an array\", X , \"is \", median)\n",
        "\n",
        "  else:\n",
        "    mode = getMode(X)\n",
        "    print(\"Mode of an array\", X , \"is \", mode)\n",
        "  \n",
        "main()"
      ],
      "execution_count": null,
      "outputs": [
        {
          "output_type": "stream",
          "text": [
            "Enter the number of elements required in an array: 2\n",
            "Please enter the 2 elements\n",
            "Enter the element 1: 3.25\n",
            "Enter the element 2: 6.23\n",
            "The following is an array  [3.2, 6.2]\n",
            "Select 1 for Mean\n",
            "Select 2 for Median\n",
            "Select 3 for Mode\n",
            "Choose any number from above to: 2\n",
            "Mean of an array [3.2, 6.2] is  4.7\n"
          ],
          "name": "stdout"
        }
      ]
    }
  ]
}